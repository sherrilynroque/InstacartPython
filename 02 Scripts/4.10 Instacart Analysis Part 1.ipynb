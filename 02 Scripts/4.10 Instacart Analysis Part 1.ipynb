{
 "cells": [
  {
   "cell_type": "markdown",
   "id": "05ab7d99",
   "metadata": {},
   "source": [
    "# Part 1"
   ]
  },
  {
   "cell_type": "markdown",
   "id": "00cec54e",
   "metadata": {},
   "source": [
    "### 1. Import libraries and dataset"
   ]
  },
  {
   "cell_type": "code",
   "execution_count": 1,
   "id": "cdc785c5",
   "metadata": {},
   "outputs": [],
   "source": [
    "import pandas as pd\n",
    "import numpy as np\n",
    "import os\n",
    "import matplotlib.pyplot as plt\n",
    "import seaborn as sns\n",
    "import scipy"
   ]
  },
  {
   "cell_type": "code",
   "execution_count": 2,
   "id": "6d8cf3c6",
   "metadata": {},
   "outputs": [],
   "source": [
    "# set folder path\n",
    "\n",
    "path = r'C:\\Users\\shyro\\OneDrive\\Documents\\Instacart Basket Analysis'"
   ]
  },
  {
   "cell_type": "code",
   "execution_count": 3,
   "id": "66d4a8e2",
   "metadata": {},
   "outputs": [],
   "source": [
    "# Import orders_products_all.pkl\n",
    "\n",
    "df_orders_products_all = pd.read_pickle(os.path.join(path, '02 Data', 'Prepared Data', 'orders_products_all.pkl'))"
   ]
  },
  {
   "cell_type": "markdown",
   "id": "64ce1028",
   "metadata": {},
   "source": [
    "### 2. Data Security"
   ]
  },
  {
   "cell_type": "code",
   "execution_count": 4,
   "id": "7ac17744",
   "metadata": {},
   "outputs": [
    {
     "name": "stdout",
     "output_type": "stream",
     "text": [
      "<class 'pandas.core.frame.DataFrame'>\n",
      "Int64Index: 32404859 entries, 0 to 32404858\n",
      "Data columns (total 32 columns):\n",
      " #   Column                  Dtype   \n",
      "---  ------                  -----   \n",
      " 0   order_id                int64   \n",
      " 1   user_id                 int64   \n",
      " 2   eval_set                object  \n",
      " 3   order_number            int64   \n",
      " 4   orders_day_of_week      int64   \n",
      " 5   order_hour_of_day       int64   \n",
      " 6   days_since_prior_order  float64 \n",
      " 7   product_id              int64   \n",
      " 8   add_to_cart_order       int64   \n",
      " 9   reordered               int64   \n",
      " 10  product_name            object  \n",
      " 11  aisle_id                int64   \n",
      " 12  department_id           int64   \n",
      " 13  prices                  float64 \n",
      " 14  _merge                  category\n",
      " 15  price_range_loc         object  \n",
      " 16  busiest_day             object  \n",
      " 17  busiest_days            object  \n",
      " 18  busiest_hours_of_day    object  \n",
      " 19  max_order               int64   \n",
      " 20  loyalty_flag            object  \n",
      " 21  avg_prices              float64 \n",
      " 22  spending_flag           object  \n",
      " 23  median_freq             float64 \n",
      " 24  frequency_flag          object  \n",
      " 25  Gender                  object  \n",
      " 26  STATE                   object  \n",
      " 27  Age                     int64   \n",
      " 28  date_joined             object  \n",
      " 29  no_of_dependants        int64   \n",
      " 30  marital_status          object  \n",
      " 31  income                  int64   \n",
      "dtypes: category(1), float64(4), int64(14), object(13)\n",
      "memory usage: 7.8+ GB\n"
     ]
    }
   ],
   "source": [
    "df_orders_products_all.info()"
   ]
  },
  {
   "cell_type": "markdown",
   "id": "1fccf973",
   "metadata": {},
   "source": [
    "##### The dataset no longer contains any personally identifiable information (PII). The clients' first and last names were already dropped in the previous exercise. "
   ]
  },
  {
   "cell_type": "markdown",
   "id": "b1831214",
   "metadata": {},
   "source": [
    "### 3. Comparing customer behavior in different geographic areas"
   ]
  },
  {
   "cell_type": "markdown",
   "id": "2a351bca",
   "metadata": {},
   "source": [
    "#### 3.1 Create a region column based on states"
   ]
  },
  {
   "cell_type": "code",
   "execution_count": 5,
   "id": "7745c212",
   "metadata": {},
   "outputs": [],
   "source": [
    "# Assign Region 1 Northeast\n",
    "\n",
    "df_orders_products_all.loc[df_orders_products_all['STATE'].isin(['Maine',\n",
    "'New Hampshire',\n",
    "'Vermont',\n",
    "'Massachusetts',\n",
    "'Rhode Island',\n",
    "'Connecticut',\n",
    "'New York',\n",
    "'Pennsylvania',\n",
    "'New Jersey']), 'region'] = 'Northeast'"
   ]
  },
  {
   "cell_type": "code",
   "execution_count": 6,
   "id": "59ea388c",
   "metadata": {},
   "outputs": [],
   "source": [
    "# Assign Region 2 Midwest\n",
    "\n",
    "df_orders_products_all.loc[df_orders_products_all['STATE'].isin(['Wisconsin',\n",
    "'Michigan',\n",
    "'Illinois',\n",
    "'Indiana',\n",
    "'Ohio',\n",
    "'North Dakota',\n",
    "'South Dakota',\n",
    "'Nebraska',\n",
    "'Kansas',\n",
    "'Minnesota',\n",
    "'Iowa',\n",
    "'Missouri']), 'region'] = 'Midwest'"
   ]
  },
  {
   "cell_type": "code",
   "execution_count": 7,
   "id": "84346815",
   "metadata": {},
   "outputs": [],
   "source": [
    "# Assign Region 3 South\n",
    "\n",
    "df_orders_products_all.loc[df_orders_products_all['STATE'].isin(['Delaware',\n",
    "'Maryland',\n",
    "'District of Columbia',\n",
    "'Virginia',\n",
    "'West Virginia',\n",
    "'North Carolina',\n",
    "'South Carolina',\n",
    "'Georgia',\n",
    "'Florida',\n",
    "'Kentucky',\n",
    "'Tennessee',\n",
    "'Mississippi',\n",
    "'Alabama',\n",
    "'Oklahoma',\n",
    "'Texas',\n",
    "'Arkansas',\n",
    "'Louisiana']), 'region'] = 'South'"
   ]
  },
  {
   "cell_type": "code",
   "execution_count": 8,
   "id": "26a53508",
   "metadata": {},
   "outputs": [],
   "source": [
    "# Assign Region 4 West\n",
    "\n",
    "df_orders_products_all.loc[df_orders_products_all['STATE'].isin(['Idaho',\n",
    "'Montana',\n",
    "'Wyoming',\n",
    "'Nevada',\n",
    "'Utah',\n",
    "'Colorado',\n",
    "'Arizona',\n",
    "'New Mexico',\n",
    "'Alaska',\n",
    "'Washington',\n",
    "'Oregon',\n",
    "'California',\n",
    "'Hawaii']), 'region'] = 'West'"
   ]
  },
  {
   "cell_type": "code",
   "execution_count": 9,
   "id": "d1b4b1a9",
   "metadata": {},
   "outputs": [
    {
     "data": {
      "text/plain": [
       "South        10791885\n",
       "West          8292913\n",
       "Midwest       7597325\n",
       "Northeast     5722736\n",
       "Name: region, dtype: int64"
      ]
     },
     "execution_count": 9,
     "metadata": {},
     "output_type": "execute_result"
    }
   ],
   "source": [
    "# check region column counts\n",
    "\n",
    "df_orders_products_all['region'].value_counts(dropna = False)"
   ]
  },
  {
   "cell_type": "code",
   "execution_count": 10,
   "id": "77882f82",
   "metadata": {},
   "outputs": [
    {
     "data": {
      "text/html": [
       "<div>\n",
       "<style scoped>\n",
       "    .dataframe tbody tr th:only-of-type {\n",
       "        vertical-align: middle;\n",
       "    }\n",
       "\n",
       "    .dataframe tbody tr th {\n",
       "        vertical-align: top;\n",
       "    }\n",
       "\n",
       "    .dataframe thead th {\n",
       "        text-align: right;\n",
       "    }\n",
       "</style>\n",
       "<table border=\"1\" class=\"dataframe\">\n",
       "  <thead>\n",
       "    <tr style=\"text-align: right;\">\n",
       "      <th></th>\n",
       "      <th>order_id</th>\n",
       "      <th>user_id</th>\n",
       "      <th>eval_set</th>\n",
       "      <th>order_number</th>\n",
       "      <th>orders_day_of_week</th>\n",
       "      <th>order_hour_of_day</th>\n",
       "      <th>days_since_prior_order</th>\n",
       "      <th>product_id</th>\n",
       "      <th>add_to_cart_order</th>\n",
       "      <th>reordered</th>\n",
       "      <th>...</th>\n",
       "      <th>median_freq</th>\n",
       "      <th>frequency_flag</th>\n",
       "      <th>Gender</th>\n",
       "      <th>STATE</th>\n",
       "      <th>Age</th>\n",
       "      <th>date_joined</th>\n",
       "      <th>no_of_dependants</th>\n",
       "      <th>marital_status</th>\n",
       "      <th>income</th>\n",
       "      <th>region</th>\n",
       "    </tr>\n",
       "  </thead>\n",
       "  <tbody>\n",
       "  </tbody>\n",
       "</table>\n",
       "<p>0 rows × 33 columns</p>\n",
       "</div>"
      ],
      "text/plain": [
       "Empty DataFrame\n",
       "Columns: [order_id, user_id, eval_set, order_number, orders_day_of_week, order_hour_of_day, days_since_prior_order, product_id, add_to_cart_order, reordered, product_name, aisle_id, department_id, prices, _merge, price_range_loc, busiest_day, busiest_days, busiest_hours_of_day, max_order, loyalty_flag, avg_prices, spending_flag, median_freq, frequency_flag, Gender, STATE, Age, date_joined, no_of_dependants, marital_status, income, region]\n",
       "Index: []\n",
       "\n",
       "[0 rows x 33 columns]"
      ]
     },
     "execution_count": 10,
     "metadata": {},
     "output_type": "execute_result"
    }
   ],
   "source": [
    "# check for NaN region\n",
    "\n",
    "df_orders_products_all[df_orders_products_all['region'].isnull()]"
   ]
  },
  {
   "cell_type": "markdown",
   "id": "d9085162",
   "metadata": {},
   "source": [
    "##### there are no rows with blank regions"
   ]
  },
  {
   "cell_type": "markdown",
   "id": "2d741756",
   "metadata": {},
   "source": [
    "#### 3.2 Determine the spending habits by regions"
   ]
  },
  {
   "cell_type": "code",
   "execution_count": 11,
   "id": "a5c33990",
   "metadata": {},
   "outputs": [
    {
     "data": {
      "text/plain": [
       "Index(['order_id', 'user_id', 'eval_set', 'order_number', 'orders_day_of_week',\n",
       "       'order_hour_of_day', 'days_since_prior_order', 'product_id',\n",
       "       'add_to_cart_order', 'reordered', 'product_name', 'aisle_id',\n",
       "       'department_id', 'prices', '_merge', 'price_range_loc', 'busiest_day',\n",
       "       'busiest_days', 'busiest_hours_of_day', 'max_order', 'loyalty_flag',\n",
       "       'avg_prices', 'spending_flag', 'median_freq', 'frequency_flag',\n",
       "       'Gender', 'STATE', 'Age', 'date_joined', 'no_of_dependants',\n",
       "       'marital_status', 'income', 'region'],\n",
       "      dtype='object')"
      ]
     },
     "execution_count": 11,
     "metadata": {},
     "output_type": "execute_result"
    }
   ],
   "source": [
    "# list all columns in the df_orders_products_all dataframe\n",
    "\n",
    "df_orders_products_all.columns"
   ]
  },
  {
   "cell_type": "code",
   "execution_count": 12,
   "id": "9fe5edda",
   "metadata": {},
   "outputs": [
    {
     "data": {
      "text/html": [
       "<div>\n",
       "<style scoped>\n",
       "    .dataframe tbody tr th:only-of-type {\n",
       "        vertical-align: middle;\n",
       "    }\n",
       "\n",
       "    .dataframe tbody tr th {\n",
       "        vertical-align: top;\n",
       "    }\n",
       "\n",
       "    .dataframe thead th {\n",
       "        text-align: right;\n",
       "    }\n",
       "</style>\n",
       "<table border=\"1\" class=\"dataframe\">\n",
       "  <thead>\n",
       "    <tr style=\"text-align: right;\">\n",
       "      <th></th>\n",
       "      <th>order_id</th>\n",
       "      <th>user_id</th>\n",
       "      <th>order_number</th>\n",
       "      <th>orders_day_of_week</th>\n",
       "      <th>order_hour_of_day</th>\n",
       "      <th>days_since_prior_order</th>\n",
       "      <th>product_id</th>\n",
       "      <th>add_to_cart_order</th>\n",
       "      <th>reordered</th>\n",
       "      <th>aisle_id</th>\n",
       "      <th>department_id</th>\n",
       "      <th>prices</th>\n",
       "      <th>max_order</th>\n",
       "      <th>avg_prices</th>\n",
       "      <th>median_freq</th>\n",
       "      <th>Age</th>\n",
       "      <th>no_of_dependants</th>\n",
       "      <th>income</th>\n",
       "    </tr>\n",
       "  </thead>\n",
       "  <tbody>\n",
       "    <tr>\n",
       "      <th>count</th>\n",
       "      <td>3.240486e+07</td>\n",
       "      <td>3.240486e+07</td>\n",
       "      <td>3.240486e+07</td>\n",
       "      <td>3.240486e+07</td>\n",
       "      <td>3.240486e+07</td>\n",
       "      <td>3.032876e+07</td>\n",
       "      <td>3.240486e+07</td>\n",
       "      <td>3.240486e+07</td>\n",
       "      <td>3.240486e+07</td>\n",
       "      <td>3.240486e+07</td>\n",
       "      <td>3.240486e+07</td>\n",
       "      <td>3.240486e+07</td>\n",
       "      <td>3.240486e+07</td>\n",
       "      <td>3.240486e+07</td>\n",
       "      <td>3.240485e+07</td>\n",
       "      <td>3.240486e+07</td>\n",
       "      <td>3.240486e+07</td>\n",
       "      <td>3.240486e+07</td>\n",
       "    </tr>\n",
       "    <tr>\n",
       "      <th>mean</th>\n",
       "      <td>1.710745e+06</td>\n",
       "      <td>1.029372e+05</td>\n",
       "      <td>1.714230e+01</td>\n",
       "      <td>2.738867e+00</td>\n",
       "      <td>1.342515e+01</td>\n",
       "      <td>1.110408e+01</td>\n",
       "      <td>2.559866e+04</td>\n",
       "      <td>8.352547e+00</td>\n",
       "      <td>5.895873e-01</td>\n",
       "      <td>7.119612e+01</td>\n",
       "      <td>9.919792e+00</td>\n",
       "      <td>1.198023e+01</td>\n",
       "      <td>3.305217e+01</td>\n",
       "      <td>4.118504e+02</td>\n",
       "      <td>2.519460e+01</td>\n",
       "      <td>4.946527e+01</td>\n",
       "      <td>1.501896e+00</td>\n",
       "      <td>9.943773e+04</td>\n",
       "    </tr>\n",
       "    <tr>\n",
       "      <th>std</th>\n",
       "      <td>9.872988e+05</td>\n",
       "      <td>5.946610e+04</td>\n",
       "      <td>1.753532e+01</td>\n",
       "      <td>2.090077e+00</td>\n",
       "      <td>4.246380e+00</td>\n",
       "      <td>8.779064e+00</td>\n",
       "      <td>1.408400e+04</td>\n",
       "      <td>7.127071e+00</td>\n",
       "      <td>4.919087e-01</td>\n",
       "      <td>3.821139e+01</td>\n",
       "      <td>6.281485e+00</td>\n",
       "      <td>4.956554e+02</td>\n",
       "      <td>2.515525e+01</td>\n",
       "      <td>4.612011e+03</td>\n",
       "      <td>6.823042e+00</td>\n",
       "      <td>1.848558e+01</td>\n",
       "      <td>1.118865e+00</td>\n",
       "      <td>4.305727e+04</td>\n",
       "    </tr>\n",
       "    <tr>\n",
       "      <th>min</th>\n",
       "      <td>2.000000e+00</td>\n",
       "      <td>1.000000e+00</td>\n",
       "      <td>1.000000e+00</td>\n",
       "      <td>0.000000e+00</td>\n",
       "      <td>0.000000e+00</td>\n",
       "      <td>0.000000e+00</td>\n",
       "      <td>1.000000e+00</td>\n",
       "      <td>1.000000e+00</td>\n",
       "      <td>0.000000e+00</td>\n",
       "      <td>1.000000e+00</td>\n",
       "      <td>1.000000e+00</td>\n",
       "      <td>1.000000e+00</td>\n",
       "      <td>1.000000e+00</td>\n",
       "      <td>1.000000e+00</td>\n",
       "      <td>0.000000e+00</td>\n",
       "      <td>1.800000e+01</td>\n",
       "      <td>0.000000e+00</td>\n",
       "      <td>2.590300e+04</td>\n",
       "    </tr>\n",
       "    <tr>\n",
       "      <th>25%</th>\n",
       "      <td>8.559470e+05</td>\n",
       "      <td>5.142200e+04</td>\n",
       "      <td>5.000000e+00</td>\n",
       "      <td>1.000000e+00</td>\n",
       "      <td>1.000000e+01</td>\n",
       "      <td>5.000000e+00</td>\n",
       "      <td>1.354400e+04</td>\n",
       "      <td>3.000000e+00</td>\n",
       "      <td>0.000000e+00</td>\n",
       "      <td>3.100000e+01</td>\n",
       "      <td>4.000000e+00</td>\n",
       "      <td>4.200000e+00</td>\n",
       "      <td>1.300000e+01</td>\n",
       "      <td>1.490000e+01</td>\n",
       "      <td>2.100000e+01</td>\n",
       "      <td>3.300000e+01</td>\n",
       "      <td>1.000000e+00</td>\n",
       "      <td>6.700400e+04</td>\n",
       "    </tr>\n",
       "    <tr>\n",
       "      <th>50%</th>\n",
       "      <td>1.711049e+06</td>\n",
       "      <td>1.026160e+05</td>\n",
       "      <td>1.100000e+01</td>\n",
       "      <td>3.000000e+00</td>\n",
       "      <td>1.300000e+01</td>\n",
       "      <td>8.000000e+00</td>\n",
       "      <td>2.530200e+04</td>\n",
       "      <td>6.000000e+00</td>\n",
       "      <td>1.000000e+00</td>\n",
       "      <td>8.300000e+01</td>\n",
       "      <td>9.000000e+00</td>\n",
       "      <td>7.400000e+00</td>\n",
       "      <td>2.600000e+01</td>\n",
       "      <td>2.040000e+01</td>\n",
       "      <td>3.000000e+01</td>\n",
       "      <td>4.900000e+01</td>\n",
       "      <td>2.000000e+00</td>\n",
       "      <td>9.661800e+04</td>\n",
       "    </tr>\n",
       "    <tr>\n",
       "      <th>75%</th>\n",
       "      <td>2.565499e+06</td>\n",
       "      <td>1.543890e+05</td>\n",
       "      <td>2.400000e+01</td>\n",
       "      <td>5.000000e+00</td>\n",
       "      <td>1.600000e+01</td>\n",
       "      <td>1.500000e+01</td>\n",
       "      <td>3.794700e+04</td>\n",
       "      <td>1.100000e+01</td>\n",
       "      <td>1.000000e+00</td>\n",
       "      <td>1.070000e+02</td>\n",
       "      <td>1.600000e+01</td>\n",
       "      <td>1.130000e+01</td>\n",
       "      <td>4.700000e+01</td>\n",
       "      <td>2.360000e+01</td>\n",
       "      <td>3.000000e+01</td>\n",
       "      <td>6.500000e+01</td>\n",
       "      <td>3.000000e+00</td>\n",
       "      <td>1.279120e+05</td>\n",
       "    </tr>\n",
       "    <tr>\n",
       "      <th>max</th>\n",
       "      <td>3.421083e+06</td>\n",
       "      <td>2.062090e+05</td>\n",
       "      <td>9.900000e+01</td>\n",
       "      <td>6.000000e+00</td>\n",
       "      <td>2.300000e+01</td>\n",
       "      <td>3.000000e+01</td>\n",
       "      <td>4.968800e+04</td>\n",
       "      <td>1.450000e+02</td>\n",
       "      <td>1.000000e+00</td>\n",
       "      <td>1.340000e+02</td>\n",
       "      <td>2.100000e+01</td>\n",
       "      <td>9.999900e+04</td>\n",
       "      <td>9.900000e+01</td>\n",
       "      <td>9.999900e+04</td>\n",
       "      <td>3.000000e+01</td>\n",
       "      <td>8.100000e+01</td>\n",
       "      <td>3.000000e+00</td>\n",
       "      <td>5.939010e+05</td>\n",
       "    </tr>\n",
       "  </tbody>\n",
       "</table>\n",
       "</div>"
      ],
      "text/plain": [
       "           order_id       user_id  order_number  orders_day_of_week  \\\n",
       "count  3.240486e+07  3.240486e+07  3.240486e+07        3.240486e+07   \n",
       "mean   1.710745e+06  1.029372e+05  1.714230e+01        2.738867e+00   \n",
       "std    9.872988e+05  5.946610e+04  1.753532e+01        2.090077e+00   \n",
       "min    2.000000e+00  1.000000e+00  1.000000e+00        0.000000e+00   \n",
       "25%    8.559470e+05  5.142200e+04  5.000000e+00        1.000000e+00   \n",
       "50%    1.711049e+06  1.026160e+05  1.100000e+01        3.000000e+00   \n",
       "75%    2.565499e+06  1.543890e+05  2.400000e+01        5.000000e+00   \n",
       "max    3.421083e+06  2.062090e+05  9.900000e+01        6.000000e+00   \n",
       "\n",
       "       order_hour_of_day  days_since_prior_order    product_id  \\\n",
       "count       3.240486e+07            3.032876e+07  3.240486e+07   \n",
       "mean        1.342515e+01            1.110408e+01  2.559866e+04   \n",
       "std         4.246380e+00            8.779064e+00  1.408400e+04   \n",
       "min         0.000000e+00            0.000000e+00  1.000000e+00   \n",
       "25%         1.000000e+01            5.000000e+00  1.354400e+04   \n",
       "50%         1.300000e+01            8.000000e+00  2.530200e+04   \n",
       "75%         1.600000e+01            1.500000e+01  3.794700e+04   \n",
       "max         2.300000e+01            3.000000e+01  4.968800e+04   \n",
       "\n",
       "       add_to_cart_order     reordered      aisle_id  department_id  \\\n",
       "count       3.240486e+07  3.240486e+07  3.240486e+07   3.240486e+07   \n",
       "mean        8.352547e+00  5.895873e-01  7.119612e+01   9.919792e+00   \n",
       "std         7.127071e+00  4.919087e-01  3.821139e+01   6.281485e+00   \n",
       "min         1.000000e+00  0.000000e+00  1.000000e+00   1.000000e+00   \n",
       "25%         3.000000e+00  0.000000e+00  3.100000e+01   4.000000e+00   \n",
       "50%         6.000000e+00  1.000000e+00  8.300000e+01   9.000000e+00   \n",
       "75%         1.100000e+01  1.000000e+00  1.070000e+02   1.600000e+01   \n",
       "max         1.450000e+02  1.000000e+00  1.340000e+02   2.100000e+01   \n",
       "\n",
       "             prices     max_order    avg_prices   median_freq           Age  \\\n",
       "count  3.240486e+07  3.240486e+07  3.240486e+07  3.240485e+07  3.240486e+07   \n",
       "mean   1.198023e+01  3.305217e+01  4.118504e+02  2.519460e+01  4.946527e+01   \n",
       "std    4.956554e+02  2.515525e+01  4.612011e+03  6.823042e+00  1.848558e+01   \n",
       "min    1.000000e+00  1.000000e+00  1.000000e+00  0.000000e+00  1.800000e+01   \n",
       "25%    4.200000e+00  1.300000e+01  1.490000e+01  2.100000e+01  3.300000e+01   \n",
       "50%    7.400000e+00  2.600000e+01  2.040000e+01  3.000000e+01  4.900000e+01   \n",
       "75%    1.130000e+01  4.700000e+01  2.360000e+01  3.000000e+01  6.500000e+01   \n",
       "max    9.999900e+04  9.900000e+01  9.999900e+04  3.000000e+01  8.100000e+01   \n",
       "\n",
       "       no_of_dependants        income  \n",
       "count      3.240486e+07  3.240486e+07  \n",
       "mean       1.501896e+00  9.943773e+04  \n",
       "std        1.118865e+00  4.305727e+04  \n",
       "min        0.000000e+00  2.590300e+04  \n",
       "25%        1.000000e+00  6.700400e+04  \n",
       "50%        2.000000e+00  9.661800e+04  \n",
       "75%        3.000000e+00  1.279120e+05  \n",
       "max        3.000000e+00  5.939010e+05  "
      ]
     },
     "execution_count": 12,
     "metadata": {},
     "output_type": "execute_result"
    }
   ],
   "source": [
    "df_orders_products_all.describe()"
   ]
  },
  {
   "cell_type": "code",
   "execution_count": 13,
   "id": "165ab28d",
   "metadata": {},
   "outputs": [],
   "source": [
    "# create a crosstab between 'region' and 'spending_flag'\n",
    "\n",
    "region_spending_crosstab = pd.crosstab(df_orders_products_all['region'], df_orders_products_all['spending_flag'], dropna = False)"
   ]
  },
  {
   "cell_type": "code",
   "execution_count": 14,
   "id": "bfa127a9",
   "metadata": {},
   "outputs": [],
   "source": [
    "# copy region_spending crosstab to clipboard\n",
    "region_spending_crosstab.to_clipboard()"
   ]
  },
  {
   "cell_type": "code",
   "execution_count": 15,
   "id": "73d7fce8",
   "metadata": {},
   "outputs": [
    {
     "data": {
      "text/html": [
       "<div>\n",
       "<style scoped>\n",
       "    .dataframe tbody tr th:only-of-type {\n",
       "        vertical-align: middle;\n",
       "    }\n",
       "\n",
       "    .dataframe tbody tr th {\n",
       "        vertical-align: top;\n",
       "    }\n",
       "\n",
       "    .dataframe thead th {\n",
       "        text-align: right;\n",
       "    }\n",
       "</style>\n",
       "<table border=\"1\" class=\"dataframe\">\n",
       "  <thead>\n",
       "    <tr style=\"text-align: right;\">\n",
       "      <th>spending_flag</th>\n",
       "      <th>High spender</th>\n",
       "      <th>Low spender</th>\n",
       "    </tr>\n",
       "    <tr>\n",
       "      <th>region</th>\n",
       "      <th></th>\n",
       "      <th></th>\n",
       "    </tr>\n",
       "  </thead>\n",
       "  <tbody>\n",
       "    <tr>\n",
       "      <th>Midwest</th>\n",
       "      <td>7589235</td>\n",
       "      <td>7791</td>\n",
       "    </tr>\n",
       "    <tr>\n",
       "      <th>Northeast</th>\n",
       "      <td>5716743</td>\n",
       "      <td>5607</td>\n",
       "    </tr>\n",
       "    <tr>\n",
       "      <th>South</th>\n",
       "      <td>10781528</td>\n",
       "      <td>10012</td>\n",
       "    </tr>\n",
       "    <tr>\n",
       "      <th>West</th>\n",
       "      <td>8283858</td>\n",
       "      <td>8480</td>\n",
       "    </tr>\n",
       "  </tbody>\n",
       "</table>\n",
       "</div>"
      ],
      "text/plain": [
       "spending_flag  High spender  Low spender\n",
       "region                                  \n",
       "Midwest             7589235         7791\n",
       "Northeast           5716743         5607\n",
       "South              10781528        10012\n",
       "West                8283858         8480"
      ]
     },
     "execution_count": 15,
     "metadata": {},
     "output_type": "execute_result"
    }
   ],
   "source": [
    "region_spending_crosstab.head()"
   ]
  },
  {
   "cell_type": "code",
   "execution_count": 16,
   "id": "ec0c99c6",
   "metadata": {},
   "outputs": [
    {
     "data": {
      "image/png": "[encoded data removed]",
      "text/plain": [
       "<Figure size 640x480 with 1 Axes>"
      ]
     },
     "metadata": {},
     "output_type": "display_data"
    }
   ],
   "source": [
    "# create a bar graph for regional spending to visualize\n",
    "\n",
    "region_spending_bar = region_spending_crosstab.sort_index().plot.bar(color = ['red', 'pink'])"
   ]
  },
  {
   "cell_type": "markdown",
   "id": "3673b4d5",
   "metadata": {},
   "source": [
    "##### The high spenders by region were ranked as follows:\n",
    "1. South\n",
    "2. West\n",
    "3. Midwest\n",
    "4. Northeast\n",
    "\n",
    "The ranking makes sense since the top most populous states such as Texas (#2), Florida (#3), and California (#1) are found in the South and West regions, respectively. "
   ]
  },
  {
   "cell_type": "code",
   "execution_count": 17,
   "id": "136ed23d",
   "metadata": {},
   "outputs": [],
   "source": [
    "# export region_spending_bar\n",
    "\n",
    "region_spending_bar.figure.savefig(os.path.join(path, '04 Analysis','Visualizations', 'bar_region_spending.png'))"
   ]
  },
  {
   "cell_type": "markdown",
   "id": "e14d527a",
   "metadata": {},
   "source": [
    "### 4. Create an exclusion flag for low-activity customers (customers with less than 5 orders) and exclude them from the data. "
   ]
  },
  {
   "cell_type": "code",
   "execution_count": 18,
   "id": "93ed0477",
   "metadata": {},
   "outputs": [],
   "source": [
    "# create a low-activity flag for 'max_order' < 5\n",
    "\n",
    "df_orders_products_all.loc[df_orders_products_all['max_order']< 5, 'activity_flag'] = 'low-activity'"
   ]
  },
  {
   "cell_type": "code",
   "execution_count": 19,
   "id": "156ecb15",
   "metadata": {},
   "outputs": [],
   "source": [
    "# create a high-activity flag for 'max_order' > 5\n",
    "\n",
    "df_orders_products_all.loc[df_orders_products_all['max_order']>= 5, 'activity_flag'] = 'high-activity'"
   ]
  },
  {
   "cell_type": "code",
   "execution_count": 20,
   "id": "2896accc",
   "metadata": {},
   "outputs": [
    {
     "data": {
      "text/plain": [
       "high-activity    30964564\n",
       "low-activity      1440295\n",
       "Name: activity_flag, dtype: int64"
      ]
     },
     "execution_count": 20,
     "metadata": {},
     "output_type": "execute_result"
    }
   ],
   "source": [
    "# checking the activity flag count\n",
    "\n",
    "df_orders_products_all['activity_flag'].value_counts(dropna = False)"
   ]
  },
  {
   "cell_type": "code",
   "execution_count": 21,
   "id": "b72cf8c8",
   "metadata": {},
   "outputs": [],
   "source": [
    "# create a subset dataframe that excludes the low-activity customers\n",
    "\n",
    "df_orders_products_all_high_activity = df_orders_products_all.loc[df_orders_products_all['activity_flag'] == 'high-activity']"
   ]
  },
  {
   "cell_type": "code",
   "execution_count": 22,
   "id": "ae66f45c",
   "metadata": {},
   "outputs": [
    {
     "data": {
      "text/html": [
       "<div>\n",
       "<style scoped>\n",
       "    .dataframe tbody tr th:only-of-type {\n",
       "        vertical-align: middle;\n",
       "    }\n",
       "\n",
       "    .dataframe tbody tr th {\n",
       "        vertical-align: top;\n",
       "    }\n",
       "\n",
       "    .dataframe thead th {\n",
       "        text-align: right;\n",
       "    }\n",
       "</style>\n",
       "<table border=\"1\" class=\"dataframe\">\n",
       "  <thead>\n",
       "    <tr style=\"text-align: right;\">\n",
       "      <th></th>\n",
       "      <th>order_id</th>\n",
       "      <th>user_id</th>\n",
       "      <th>eval_set</th>\n",
       "      <th>order_number</th>\n",
       "      <th>orders_day_of_week</th>\n",
       "      <th>order_hour_of_day</th>\n",
       "      <th>days_since_prior_order</th>\n",
       "      <th>product_id</th>\n",
       "      <th>add_to_cart_order</th>\n",
       "      <th>reordered</th>\n",
       "      <th>...</th>\n",
       "      <th>frequency_flag</th>\n",
       "      <th>Gender</th>\n",
       "      <th>STATE</th>\n",
       "      <th>Age</th>\n",
       "      <th>date_joined</th>\n",
       "      <th>no_of_dependants</th>\n",
       "      <th>marital_status</th>\n",
       "      <th>income</th>\n",
       "      <th>region</th>\n",
       "      <th>activity_flag</th>\n",
       "    </tr>\n",
       "  </thead>\n",
       "  <tbody>\n",
       "    <tr>\n",
       "      <th>0</th>\n",
       "      <td>2539329</td>\n",
       "      <td>1</td>\n",
       "      <td>prior</td>\n",
       "      <td>1</td>\n",
       "      <td>2</td>\n",
       "      <td>8</td>\n",
       "      <td>NaN</td>\n",
       "      <td>196</td>\n",
       "      <td>1</td>\n",
       "      <td>0</td>\n",
       "      <td>...</td>\n",
       "      <td>Non-frequent customer</td>\n",
       "      <td>Female</td>\n",
       "      <td>Alabama</td>\n",
       "      <td>31</td>\n",
       "      <td>2/17/2019</td>\n",
       "      <td>3</td>\n",
       "      <td>married</td>\n",
       "      <td>40423</td>\n",
       "      <td>South</td>\n",
       "      <td>high-activity</td>\n",
       "    </tr>\n",
       "    <tr>\n",
       "      <th>1</th>\n",
       "      <td>2398795</td>\n",
       "      <td>1</td>\n",
       "      <td>prior</td>\n",
       "      <td>2</td>\n",
       "      <td>3</td>\n",
       "      <td>7</td>\n",
       "      <td>15.0</td>\n",
       "      <td>196</td>\n",
       "      <td>1</td>\n",
       "      <td>1</td>\n",
       "      <td>...</td>\n",
       "      <td>Non-frequent customer</td>\n",
       "      <td>Female</td>\n",
       "      <td>Alabama</td>\n",
       "      <td>31</td>\n",
       "      <td>2/17/2019</td>\n",
       "      <td>3</td>\n",
       "      <td>married</td>\n",
       "      <td>40423</td>\n",
       "      <td>South</td>\n",
       "      <td>high-activity</td>\n",
       "    </tr>\n",
       "    <tr>\n",
       "      <th>2</th>\n",
       "      <td>473747</td>\n",
       "      <td>1</td>\n",
       "      <td>prior</td>\n",
       "      <td>3</td>\n",
       "      <td>3</td>\n",
       "      <td>12</td>\n",
       "      <td>21.0</td>\n",
       "      <td>196</td>\n",
       "      <td>1</td>\n",
       "      <td>1</td>\n",
       "      <td>...</td>\n",
       "      <td>Non-frequent customer</td>\n",
       "      <td>Female</td>\n",
       "      <td>Alabama</td>\n",
       "      <td>31</td>\n",
       "      <td>2/17/2019</td>\n",
       "      <td>3</td>\n",
       "      <td>married</td>\n",
       "      <td>40423</td>\n",
       "      <td>South</td>\n",
       "      <td>high-activity</td>\n",
       "    </tr>\n",
       "    <tr>\n",
       "      <th>3</th>\n",
       "      <td>2254736</td>\n",
       "      <td>1</td>\n",
       "      <td>prior</td>\n",
       "      <td>4</td>\n",
       "      <td>4</td>\n",
       "      <td>7</td>\n",
       "      <td>29.0</td>\n",
       "      <td>196</td>\n",
       "      <td>1</td>\n",
       "      <td>1</td>\n",
       "      <td>...</td>\n",
       "      <td>Non-frequent customer</td>\n",
       "      <td>Female</td>\n",
       "      <td>Alabama</td>\n",
       "      <td>31</td>\n",
       "      <td>2/17/2019</td>\n",
       "      <td>3</td>\n",
       "      <td>married</td>\n",
       "      <td>40423</td>\n",
       "      <td>South</td>\n",
       "      <td>high-activity</td>\n",
       "    </tr>\n",
       "    <tr>\n",
       "      <th>4</th>\n",
       "      <td>431534</td>\n",
       "      <td>1</td>\n",
       "      <td>prior</td>\n",
       "      <td>5</td>\n",
       "      <td>4</td>\n",
       "      <td>15</td>\n",
       "      <td>28.0</td>\n",
       "      <td>196</td>\n",
       "      <td>1</td>\n",
       "      <td>1</td>\n",
       "      <td>...</td>\n",
       "      <td>Non-frequent customer</td>\n",
       "      <td>Female</td>\n",
       "      <td>Alabama</td>\n",
       "      <td>31</td>\n",
       "      <td>2/17/2019</td>\n",
       "      <td>3</td>\n",
       "      <td>married</td>\n",
       "      <td>40423</td>\n",
       "      <td>South</td>\n",
       "      <td>high-activity</td>\n",
       "    </tr>\n",
       "  </tbody>\n",
       "</table>\n",
       "<p>5 rows × 34 columns</p>\n",
       "</div>"
      ],
      "text/plain": [
       "   order_id  user_id eval_set  order_number  orders_day_of_week  \\\n",
       "0   2539329        1    prior             1                   2   \n",
       "1   2398795        1    prior             2                   3   \n",
       "2    473747        1    prior             3                   3   \n",
       "3   2254736        1    prior             4                   4   \n",
       "4    431534        1    prior             5                   4   \n",
       "\n",
       "   order_hour_of_day  days_since_prior_order  product_id  add_to_cart_order  \\\n",
       "0                  8                     NaN         196                  1   \n",
       "1                  7                    15.0         196                  1   \n",
       "2                 12                    21.0         196                  1   \n",
       "3                  7                    29.0         196                  1   \n",
       "4                 15                    28.0         196                  1   \n",
       "\n",
       "   reordered  ...         frequency_flag  Gender    STATE  Age date_joined  \\\n",
       "0          0  ...  Non-frequent customer  Female  Alabama   31   2/17/2019   \n",
       "1          1  ...  Non-frequent customer  Female  Alabama   31   2/17/2019   \n",
       "2          1  ...  Non-frequent customer  Female  Alabama   31   2/17/2019   \n",
       "3          1  ...  Non-frequent customer  Female  Alabama   31   2/17/2019   \n",
       "4          1  ...  Non-frequent customer  Female  Alabama   31   2/17/2019   \n",
       "\n",
       "  no_of_dependants marital_status income region  activity_flag  \n",
       "0                3        married  40423  South  high-activity  \n",
       "1                3        married  40423  South  high-activity  \n",
       "2                3        married  40423  South  high-activity  \n",
       "3                3        married  40423  South  high-activity  \n",
       "4                3        married  40423  South  high-activity  \n",
       "\n",
       "[5 rows x 34 columns]"
      ]
     },
     "execution_count": 22,
     "metadata": {},
     "output_type": "execute_result"
    }
   ],
   "source": [
    "#check the new subset \n",
    "\n",
    "df_orders_products_all_high_activity.head()"
   ]
  },
  {
   "cell_type": "code",
   "execution_count": 23,
   "id": "9054ef88",
   "metadata": {},
   "outputs": [],
   "source": [
    "# export subset df_orders_products_all_high_activity to pkl file\n",
    "\n",
    "df_orders_products_all_high_activity.to_pickle(os.path.join(path, '02 Data','Prepared Data', 'df_orders_products_all_high_activity.pkl'))"
   ]
  },
  {
   "cell_type": "markdown",
   "id": "e7d04562",
   "metadata": {},
   "source": [
    "### 5. Customer profiling"
   ]
  },
  {
   "cell_type": "markdown",
   "id": "1ee81837",
   "metadata": {},
   "source": [
    "Create a profiling variable based on age, income, certain goods in the “department_id” column, and number of dependents. You might also use the “orders_day_of_the_week” and “order_hour_of_day” columns if you can think of a way they would impact customer profiles. (Hint: As an example, try thinking of what characteristics would lead you to the profile “Single adult” or “Young parent.”)\n",
    "\n",
    "1. Age: Young Adult (18-25), Adult (26-44), Middle-age (45-59), Old-age (60 and above)\n",
    "2. Income: Low Income (<52,000), Middle Income (52,000-156,600), High Income (>156,600)\n",
    "3. Dietary: Carnivore, Vegetarian (no dept. 12 meat seafood), Vegan (no dept. 12 meat seafood and dept. 16 dairy eggs)\n",
    "4. Number of dependants: No Children (0), Parent (>= 1)"
   ]
  },
  {
   "cell_type": "code",
   "execution_count": 24,
   "id": "61c96314",
   "metadata": {},
   "outputs": [
    {
     "data": {
      "text/html": [
       "<div>\n",
       "<style scoped>\n",
       "    .dataframe tbody tr th:only-of-type {\n",
       "        vertical-align: middle;\n",
       "    }\n",
       "\n",
       "    .dataframe tbody tr th {\n",
       "        vertical-align: top;\n",
       "    }\n",
       "\n",
       "    .dataframe thead th {\n",
       "        text-align: right;\n",
       "    }\n",
       "</style>\n",
       "<table border=\"1\" class=\"dataframe\">\n",
       "  <thead>\n",
       "    <tr style=\"text-align: right;\">\n",
       "      <th></th>\n",
       "      <th>order_id</th>\n",
       "      <th>user_id</th>\n",
       "      <th>order_number</th>\n",
       "      <th>orders_day_of_week</th>\n",
       "      <th>order_hour_of_day</th>\n",
       "      <th>days_since_prior_order</th>\n",
       "      <th>product_id</th>\n",
       "      <th>add_to_cart_order</th>\n",
       "      <th>reordered</th>\n",
       "      <th>aisle_id</th>\n",
       "      <th>department_id</th>\n",
       "      <th>prices</th>\n",
       "      <th>max_order</th>\n",
       "      <th>avg_prices</th>\n",
       "      <th>median_freq</th>\n",
       "      <th>Age</th>\n",
       "      <th>no_of_dependants</th>\n",
       "      <th>income</th>\n",
       "    </tr>\n",
       "  </thead>\n",
       "  <tbody>\n",
       "    <tr>\n",
       "      <th>count</th>\n",
       "      <td>3.096456e+07</td>\n",
       "      <td>3.096456e+07</td>\n",
       "      <td>3.096456e+07</td>\n",
       "      <td>3.096456e+07</td>\n",
       "      <td>3.096456e+07</td>\n",
       "      <td>2.930328e+07</td>\n",
       "      <td>3.096456e+07</td>\n",
       "      <td>3.096456e+07</td>\n",
       "      <td>3.096456e+07</td>\n",
       "      <td>3.096456e+07</td>\n",
       "      <td>3.096456e+07</td>\n",
       "      <td>3.096456e+07</td>\n",
       "      <td>3.096456e+07</td>\n",
       "      <td>3.096456e+07</td>\n",
       "      <td>3.096456e+07</td>\n",
       "      <td>3.096456e+07</td>\n",
       "      <td>3.096456e+07</td>\n",
       "      <td>3.096456e+07</td>\n",
       "    </tr>\n",
       "    <tr>\n",
       "      <th>mean</th>\n",
       "      <td>1.710317e+06</td>\n",
       "      <td>1.029284e+05</td>\n",
       "      <td>1.783414e+01</td>\n",
       "      <td>2.741397e+00</td>\n",
       "      <td>1.341098e+01</td>\n",
       "      <td>1.081030e+01</td>\n",
       "      <td>2.559850e+04</td>\n",
       "      <td>8.363038e+00</td>\n",
       "      <td>6.061019e-01</td>\n",
       "      <td>7.118859e+01</td>\n",
       "      <td>9.922365e+00</td>\n",
       "      <td>1.193352e+01</td>\n",
       "      <td>3.442569e+01</td>\n",
       "      <td>4.224762e+02</td>\n",
       "      <td>2.521818e+01</td>\n",
       "      <td>4.946803e+01</td>\n",
       "      <td>1.501819e+00</td>\n",
       "      <td>9.967587e+04</td>\n",
       "    </tr>\n",
       "    <tr>\n",
       "      <th>std</th>\n",
       "      <td>9.873785e+05</td>\n",
       "      <td>5.947061e+04</td>\n",
       "      <td>1.763442e+01</td>\n",
       "      <td>2.089254e+00</td>\n",
       "      <td>4.248845e+00</td>\n",
       "      <td>8.578590e+00</td>\n",
       "      <td>1.408096e+04</td>\n",
       "      <td>7.135399e+00</td>\n",
       "      <td>4.886127e-01</td>\n",
       "      <td>3.822194e+01</td>\n",
       "      <td>6.282441e+00</td>\n",
       "      <td>4.913444e+02</td>\n",
       "      <td>2.489504e+01</td>\n",
       "      <td>4.666853e+03</td>\n",
       "      <td>6.760479e+00</td>\n",
       "      <td>1.848528e+01</td>\n",
       "      <td>1.118896e+00</td>\n",
       "      <td>4.314187e+04</td>\n",
       "    </tr>\n",
       "    <tr>\n",
       "      <th>min</th>\n",
       "      <td>2.000000e+00</td>\n",
       "      <td>1.000000e+00</td>\n",
       "      <td>1.000000e+00</td>\n",
       "      <td>0.000000e+00</td>\n",
       "      <td>0.000000e+00</td>\n",
       "      <td>0.000000e+00</td>\n",
       "      <td>1.000000e+00</td>\n",
       "      <td>1.000000e+00</td>\n",
       "      <td>0.000000e+00</td>\n",
       "      <td>1.000000e+00</td>\n",
       "      <td>1.000000e+00</td>\n",
       "      <td>1.000000e+00</td>\n",
       "      <td>5.000000e+00</td>\n",
       "      <td>1.000000e+00</td>\n",
       "      <td>0.000000e+00</td>\n",
       "      <td>1.800000e+01</td>\n",
       "      <td>0.000000e+00</td>\n",
       "      <td>2.590300e+04</td>\n",
       "    </tr>\n",
       "    <tr>\n",
       "      <th>25%</th>\n",
       "      <td>8.554120e+05</td>\n",
       "      <td>5.140900e+04</td>\n",
       "      <td>5.000000e+00</td>\n",
       "      <td>1.000000e+00</td>\n",
       "      <td>1.000000e+01</td>\n",
       "      <td>5.000000e+00</td>\n",
       "      <td>1.354400e+04</td>\n",
       "      <td>3.000000e+00</td>\n",
       "      <td>0.000000e+00</td>\n",
       "      <td>3.100000e+01</td>\n",
       "      <td>4.000000e+00</td>\n",
       "      <td>4.200000e+00</td>\n",
       "      <td>1.400000e+01</td>\n",
       "      <td>1.490000e+01</td>\n",
       "      <td>2.100000e+01</td>\n",
       "      <td>3.300000e+01</td>\n",
       "      <td>1.000000e+00</td>\n",
       "      <td>6.729200e+04</td>\n",
       "    </tr>\n",
       "    <tr>\n",
       "      <th>50%</th>\n",
       "      <td>1.710404e+06</td>\n",
       "      <td>1.025860e+05</td>\n",
       "      <td>1.200000e+01</td>\n",
       "      <td>3.000000e+00</td>\n",
       "      <td>1.300000e+01</td>\n",
       "      <td>7.000000e+00</td>\n",
       "      <td>2.528800e+04</td>\n",
       "      <td>6.000000e+00</td>\n",
       "      <td>1.000000e+00</td>\n",
       "      <td>8.300000e+01</td>\n",
       "      <td>9.000000e+00</td>\n",
       "      <td>7.400000e+00</td>\n",
       "      <td>2.800000e+01</td>\n",
       "      <td>2.070000e+01</td>\n",
       "      <td>3.000000e+01</td>\n",
       "      <td>4.900000e+01</td>\n",
       "      <td>2.000000e+00</td>\n",
       "      <td>9.676500e+04</td>\n",
       "    </tr>\n",
       "    <tr>\n",
       "      <th>75%</th>\n",
       "      <td>2.565206e+06</td>\n",
       "      <td>1.543870e+05</td>\n",
       "      <td>2.500000e+01</td>\n",
       "      <td>5.000000e+00</td>\n",
       "      <td>1.600000e+01</td>\n",
       "      <td>1.400000e+01</td>\n",
       "      <td>3.794700e+04</td>\n",
       "      <td>1.100000e+01</td>\n",
       "      <td>1.000000e+00</td>\n",
       "      <td>1.070000e+02</td>\n",
       "      <td>1.600000e+01</td>\n",
       "      <td>1.130000e+01</td>\n",
       "      <td>4.800000e+01</td>\n",
       "      <td>2.360000e+01</td>\n",
       "      <td>3.000000e+01</td>\n",
       "      <td>6.500000e+01</td>\n",
       "      <td>3.000000e+00</td>\n",
       "      <td>1.281020e+05</td>\n",
       "    </tr>\n",
       "    <tr>\n",
       "      <th>max</th>\n",
       "      <td>3.421083e+06</td>\n",
       "      <td>2.062090e+05</td>\n",
       "      <td>9.900000e+01</td>\n",
       "      <td>6.000000e+00</td>\n",
       "      <td>2.300000e+01</td>\n",
       "      <td>3.000000e+01</td>\n",
       "      <td>4.968800e+04</td>\n",
       "      <td>1.450000e+02</td>\n",
       "      <td>1.000000e+00</td>\n",
       "      <td>1.340000e+02</td>\n",
       "      <td>2.100000e+01</td>\n",
       "      <td>9.999900e+04</td>\n",
       "      <td>9.900000e+01</td>\n",
       "      <td>9.999900e+04</td>\n",
       "      <td>3.000000e+01</td>\n",
       "      <td>8.100000e+01</td>\n",
       "      <td>3.000000e+00</td>\n",
       "      <td>5.939010e+05</td>\n",
       "    </tr>\n",
       "  </tbody>\n",
       "</table>\n",
       "</div>"
      ],
      "text/plain": [
       "           order_id       user_id  order_number  orders_day_of_week  \\\n",
       "count  3.096456e+07  3.096456e+07  3.096456e+07        3.096456e+07   \n",
       "mean   1.710317e+06  1.029284e+05  1.783414e+01        2.741397e+00   \n",
       "std    9.873785e+05  5.947061e+04  1.763442e+01        2.089254e+00   \n",
       "min    2.000000e+00  1.000000e+00  1.000000e+00        0.000000e+00   \n",
       "25%    8.554120e+05  5.140900e+04  5.000000e+00        1.000000e+00   \n",
       "50%    1.710404e+06  1.025860e+05  1.200000e+01        3.000000e+00   \n",
       "75%    2.565206e+06  1.543870e+05  2.500000e+01        5.000000e+00   \n",
       "max    3.421083e+06  2.062090e+05  9.900000e+01        6.000000e+00   \n",
       "\n",
       "       order_hour_of_day  days_since_prior_order    product_id  \\\n",
       "count       3.096456e+07            2.930328e+07  3.096456e+07   \n",
       "mean        1.341098e+01            1.081030e+01  2.559850e+04   \n",
       "std         4.248845e+00            8.578590e+00  1.408096e+04   \n",
       "min         0.000000e+00            0.000000e+00  1.000000e+00   \n",
       "25%         1.000000e+01            5.000000e+00  1.354400e+04   \n",
       "50%         1.300000e+01            7.000000e+00  2.528800e+04   \n",
       "75%         1.600000e+01            1.400000e+01  3.794700e+04   \n",
       "max         2.300000e+01            3.000000e+01  4.968800e+04   \n",
       "\n",
       "       add_to_cart_order     reordered      aisle_id  department_id  \\\n",
       "count       3.096456e+07  3.096456e+07  3.096456e+07   3.096456e+07   \n",
       "mean        8.363038e+00  6.061019e-01  7.118859e+01   9.922365e+00   \n",
       "std         7.135399e+00  4.886127e-01  3.822194e+01   6.282441e+00   \n",
       "min         1.000000e+00  0.000000e+00  1.000000e+00   1.000000e+00   \n",
       "25%         3.000000e+00  0.000000e+00  3.100000e+01   4.000000e+00   \n",
       "50%         6.000000e+00  1.000000e+00  8.300000e+01   9.000000e+00   \n",
       "75%         1.100000e+01  1.000000e+00  1.070000e+02   1.600000e+01   \n",
       "max         1.450000e+02  1.000000e+00  1.340000e+02   2.100000e+01   \n",
       "\n",
       "             prices     max_order    avg_prices   median_freq           Age  \\\n",
       "count  3.096456e+07  3.096456e+07  3.096456e+07  3.096456e+07  3.096456e+07   \n",
       "mean   1.193352e+01  3.442569e+01  4.224762e+02  2.521818e+01  4.946803e+01   \n",
       "std    4.913444e+02  2.489504e+01  4.666853e+03  6.760479e+00  1.848528e+01   \n",
       "min    1.000000e+00  5.000000e+00  1.000000e+00  0.000000e+00  1.800000e+01   \n",
       "25%    4.200000e+00  1.400000e+01  1.490000e+01  2.100000e+01  3.300000e+01   \n",
       "50%    7.400000e+00  2.800000e+01  2.070000e+01  3.000000e+01  4.900000e+01   \n",
       "75%    1.130000e+01  4.800000e+01  2.360000e+01  3.000000e+01  6.500000e+01   \n",
       "max    9.999900e+04  9.900000e+01  9.999900e+04  3.000000e+01  8.100000e+01   \n",
       "\n",
       "       no_of_dependants        income  \n",
       "count      3.096456e+07  3.096456e+07  \n",
       "mean       1.501819e+00  9.967587e+04  \n",
       "std        1.118896e+00  4.314187e+04  \n",
       "min        0.000000e+00  2.590300e+04  \n",
       "25%        1.000000e+00  6.729200e+04  \n",
       "50%        2.000000e+00  9.676500e+04  \n",
       "75%        3.000000e+00  1.281020e+05  \n",
       "max        3.000000e+00  5.939010e+05  "
      ]
     },
     "execution_count": 24,
     "metadata": {},
     "output_type": "execute_result"
    }
   ],
   "source": [
    "df_orders_products_all_high_activity.describe()"
   ]
  },
  {
   "cell_type": "markdown",
   "id": "0be68fe3",
   "metadata": {},
   "source": [
    "#### 5.1 Age flag"
   ]
  },
  {
   "cell_type": "code",
   "execution_count": 25,
   "id": "f802ab23",
   "metadata": {},
   "outputs": [],
   "source": [
    "df_orders_products_all.loc[df_orders_products_all['Age'] <= 25, 'age_flag'] = 'Young Adult'"
   ]
  },
  {
   "cell_type": "code",
   "execution_count": 26,
   "id": "607bd89e",
   "metadata": {},
   "outputs": [],
   "source": [
    "df_orders_products_all.loc[(df_orders_products_all['Age'] <= 44) & (df_orders_products_all['Age'] >= 26), 'age_flag'] = 'Adult' "
   ]
  },
  {
   "cell_type": "code",
   "execution_count": 27,
   "id": "6c29a6d7",
   "metadata": {},
   "outputs": [],
   "source": [
    "df_orders_products_all.loc[(df_orders_products_all['Age'] <= 59) & (df_orders_products_all['Age'] >= 45), 'age_flag'] = 'Middle-Age' "
   ]
  },
  {
   "cell_type": "code",
   "execution_count": 28,
   "id": "fa0bb480",
   "metadata": {},
   "outputs": [],
   "source": [
    "df_orders_products_all.loc[df_orders_products_all['Age'] >= 60, 'age_flag'] = 'Old-Age'"
   ]
  },
  {
   "cell_type": "code",
   "execution_count": 29,
   "id": "552fa489",
   "metadata": {},
   "outputs": [
    {
     "data": {
      "text/plain": [
       "Old-Age        11067255\n",
       "Adult           9644895\n",
       "Middle-Age      7647520\n",
       "Young Adult     4045189\n",
       "Name: age_flag, dtype: int64"
      ]
     },
     "execution_count": 29,
     "metadata": {},
     "output_type": "execute_result"
    }
   ],
   "source": [
    "df_orders_products_all['age_flag'].value_counts(dropna = False)"
   ]
  },
  {
   "cell_type": "markdown",
   "id": "e68cf662",
   "metadata": {},
   "source": [
    "#### 5.2 Income flag"
   ]
  },
  {
   "cell_type": "code",
   "execution_count": 30,
   "id": "36421161",
   "metadata": {},
   "outputs": [],
   "source": [
    "df_orders_products_all.loc[df_orders_products_all['income'] <= 52000, 'income_flag'] = 'Low Income'"
   ]
  },
  {
   "cell_type": "code",
   "execution_count": 31,
   "id": "15e3b372",
   "metadata": {},
   "outputs": [],
   "source": [
    "df_orders_products_all.loc[(df_orders_products_all['income'] <= 156600) & (df_orders_products_all['income'] >= 52001), 'income_flag'] = 'Middle Income' "
   ]
  },
  {
   "cell_type": "code",
   "execution_count": 32,
   "id": "1e8b84b1",
   "metadata": {},
   "outputs": [],
   "source": [
    "df_orders_products_all.loc[df_orders_products_all['income'] >= 156601, 'income_flag'] = 'High Income'"
   ]
  },
  {
   "cell_type": "code",
   "execution_count": 33,
   "id": "3baecd42",
   "metadata": {},
   "outputs": [
    {
     "data": {
      "text/plain": [
       "Middle Income    25687671\n",
       "Low Income        3879475\n",
       "High Income       2837713\n",
       "Name: income_flag, dtype: int64"
      ]
     },
     "execution_count": 33,
     "metadata": {},
     "output_type": "execute_result"
    }
   ],
   "source": [
    "df_orders_products_all['income_flag'].value_counts(dropna = False)"
   ]
  },
  {
   "cell_type": "markdown",
   "id": "585e4c44",
   "metadata": {},
   "source": [
    "#### 5.3 Dietary flag"
   ]
  },
  {
   "cell_type": "code",
   "execution_count": 34,
   "id": "c3baab77",
   "metadata": {},
   "outputs": [],
   "source": [
    "# Create new column \"Type\"\n",
    "\n",
    "df_orders_products_all['Type'] = df_orders_products_all.groupby('user_id')['department_id'].transform(lambda x: 'carnivore' if (x == 12).any() else 'vegetarian')\n"
   ]
  },
  {
   "cell_type": "code",
   "execution_count": 35,
   "id": "6895f5b9",
   "metadata": {},
   "outputs": [
    {
     "name": "stdout",
     "output_type": "stream",
     "text": [
      "          order_id  user_id eval_set  order_number  orders_day_of_week  \\\n",
      "0          2539329        1    prior             1                   2   \n",
      "1          2398795        1    prior             2                   3   \n",
      "2           473747        1    prior             3                   3   \n",
      "3          2254736        1    prior             4                   4   \n",
      "4           431534        1    prior             5                   4   \n",
      "...            ...      ...      ...           ...                 ...   \n",
      "32404854    156685   106143    prior            26                   4   \n",
      "32404855    484769    66343    prior             1                   6   \n",
      "32404856   1561557    66343    prior             2                   1   \n",
      "32404857    276317    66343    prior             3                   6   \n",
      "32404858   2922475    66343    prior             4                   1   \n",
      "\n",
      "          order_hour_of_day  days_since_prior_order  product_id  \\\n",
      "0                         8                     NaN         196   \n",
      "1                         7                    15.0         196   \n",
      "2                        12                    21.0         196   \n",
      "3                         7                    29.0         196   \n",
      "4                        15                    28.0         196   \n",
      "...                     ...                     ...         ...   \n",
      "32404854                 23                     5.0       19675   \n",
      "32404855                 11                     NaN       47210   \n",
      "32404856                 11                    30.0       47210   \n",
      "32404857                 15                    19.0       47210   \n",
      "32404858                 12                    30.0       47210   \n",
      "\n",
      "          add_to_cart_order  reordered  ... Age  date_joined  \\\n",
      "0                         1          0  ...  31    2/17/2019   \n",
      "1                         1          1  ...  31    2/17/2019   \n",
      "2                         1          1  ...  31    2/17/2019   \n",
      "3                         1          1  ...  31    2/17/2019   \n",
      "4                         1          1  ...  31    2/17/2019   \n",
      "...                     ...        ...  ...  ..          ...   \n",
      "32404854                  1          1  ...  25    5/26/2017   \n",
      "32404855                  1          0  ...  22    9/12/2017   \n",
      "32404856                  1          1  ...  22    9/12/2017   \n",
      "32404857                  1          1  ...  22    9/12/2017   \n",
      "32404858                  1          1  ...  22    9/12/2017   \n",
      "\n",
      "          no_of_dependants  marital_status income region  activity_flag  \\\n",
      "0                        3         married  40423  South  high-activity   \n",
      "1                        3         married  40423  South  high-activity   \n",
      "2                        3         married  40423  South  high-activity   \n",
      "3                        3         married  40423  South  high-activity   \n",
      "4                        3         married  40423  South  high-activity   \n",
      "...                    ...             ...    ...    ...            ...   \n",
      "32404854                 0          single  53755   West  high-activity   \n",
      "32404855                 3         married  46151  South   low-activity   \n",
      "32404856                 3         married  46151  South   low-activity   \n",
      "32404857                 3         married  46151  South   low-activity   \n",
      "32404858                 3         married  46151  South   low-activity   \n",
      "\n",
      "             age_flag    income_flag        Type  \n",
      "0               Adult     Low Income  vegetarian  \n",
      "1               Adult     Low Income  vegetarian  \n",
      "2               Adult     Low Income  vegetarian  \n",
      "3               Adult     Low Income  vegetarian  \n",
      "4               Adult     Low Income  vegetarian  \n",
      "...               ...            ...         ...  \n",
      "32404854  Young Adult  Middle Income  vegetarian  \n",
      "32404855  Young Adult     Low Income   carnivore  \n",
      "32404856  Young Adult     Low Income   carnivore  \n",
      "32404857  Young Adult     Low Income   carnivore  \n",
      "32404858  Young Adult     Low Income   carnivore  \n",
      "\n",
      "[32404859 rows x 37 columns]\n"
     ]
    }
   ],
   "source": [
    "print(df_orders_products_all)"
   ]
  },
  {
   "cell_type": "code",
   "execution_count": 61,
   "id": "2a2a4742",
   "metadata": {},
   "outputs": [
    {
     "data": {
      "text/plain": [
       "carnivore     23762619\n",
       "vegetarian     8642240\n",
       "Name: Type, dtype: int64"
      ]
     },
     "execution_count": 61,
     "metadata": {},
     "output_type": "execute_result"
    }
   ],
   "source": [
    "df_orders_products_all['Type'].value_counts()"
   ]
  },
  {
   "cell_type": "markdown",
   "id": "668903da",
   "metadata": {},
   "source": [
    "#### 5.4 Dependant flag"
   ]
  },
  {
   "cell_type": "code",
   "execution_count": 36,
   "id": "dacab3a2",
   "metadata": {},
   "outputs": [],
   "source": [
    "df_orders_products_all.loc[df_orders_products_all['no_of_dependants'] == 0, 'dependant_flag'] = 'No Children'"
   ]
  },
  {
   "cell_type": "code",
   "execution_count": 37,
   "id": "36e47fa4",
   "metadata": {},
   "outputs": [],
   "source": [
    "df_orders_products_all.loc[df_orders_products_all['no_of_dependants'] >0, 'dependant_flag'] = 'Parent'"
   ]
  },
  {
   "cell_type": "code",
   "execution_count": 38,
   "id": "b8f88658",
   "metadata": {},
   "outputs": [
    {
     "data": {
      "text/plain": [
       "Parent         24307356\n",
       "No Children     8097503\n",
       "Name: dependant_flag, dtype: int64"
      ]
     },
     "execution_count": 38,
     "metadata": {},
     "output_type": "execute_result"
    }
   ],
   "source": [
    "df_orders_products_all['dependant_flag'].value_counts(dropna = False)"
   ]
  },
  {
   "cell_type": "markdown",
   "id": "c81bc06e",
   "metadata": {},
   "source": [
    "### 6. Visualizations"
   ]
  },
  {
   "cell_type": "markdown",
   "id": "dd5371ff",
   "metadata": {},
   "source": [
    "#### 6.1 Age flag profile"
   ]
  },
  {
   "cell_type": "code",
   "execution_count": 57,
   "id": "c86880f3",
   "metadata": {},
   "outputs": [
    {
     "data": {
      "image/png": "[encoded data removed]",
      "text/plain": [
       "<Figure size 640x480 with 1 Axes>"
      ]
     },
     "metadata": {},
     "output_type": "display_data"
    }
   ],
   "source": [
    "# create age_flag pie chart\n",
    "\n",
    "age_flag_pie = df_orders_products_all['age_flag'].value_counts().plot.pie(title ='Age Flag', label = '', colors = ['red','coral','lightsalmon','pink'], autopct=('%1.f%%'))"
   ]
  },
  {
   "cell_type": "code",
   "execution_count": 59,
   "id": "913195f3",
   "metadata": {},
   "outputs": [],
   "source": [
    "# export age_flag pie chart\n",
    "\n",
    "age_flag_pie.figure.savefig(os.path.join(path, '04 Analysis','Visualizations', 'age_flag_pie.png'))"
   ]
  },
  {
   "cell_type": "markdown",
   "id": "b8fd78df",
   "metadata": {},
   "source": [
    "##### Adults age 26-44 makes up the majority of Instacart's demographics."
   ]
  },
  {
   "cell_type": "markdown",
   "id": "ad57b38d",
   "metadata": {},
   "source": [
    "#### 6.2 Income flag profile"
   ]
  },
  {
   "cell_type": "code",
   "execution_count": 56,
   "id": "7b3b87ed",
   "metadata": {},
   "outputs": [
    {
     "data": {
      "image/png": "[encoded data removed]",
      "text/plain": [
       "<Figure size 640x480 with 1 Axes>"
      ]
     },
     "metadata": {},
     "output_type": "display_data"
    }
   ],
   "source": [
    "# create income_flag pie chart \n",
    "\n",
    "income_flag_pie = df_orders_products_all['income_flag'].value_counts().plot.pie(title ='Income Flag', label = '', colors = ['red','coral','lightsalmon'], autopct=('%1.f%%'))"
   ]
  },
  {
   "cell_type": "markdown",
   "id": "1d1c5263",
   "metadata": {},
   "source": [
    "##### Majority of Intacart's customers are middle class."
   ]
  },
  {
   "cell_type": "code",
   "execution_count": 60,
   "id": "d7bf903f",
   "metadata": {},
   "outputs": [],
   "source": [
    "# export income_flag pie chart\n",
    "\n",
    "income_flag_pie.figure.savefig(os.path.join(path, '04 Analysis','Visualizations', 'income_flag_pie.png'))"
   ]
  },
  {
   "cell_type": "markdown",
   "id": "7bff8c82",
   "metadata": {},
   "source": [
    "#### 6.3 Dietary flag profile"
   ]
  },
  {
   "cell_type": "code",
   "execution_count": 67,
   "id": "90112266",
   "metadata": {},
   "outputs": [
    {
     "data": {
      "image/png": "[encoded data removed]",
      "text/plain": [
       "<Figure size 640x480 with 1 Axes>"
      ]
     },
     "metadata": {},
     "output_type": "display_data"
    }
   ],
   "source": [
    "# create bar chart for dietary type flag\n",
    "\n",
    "dietary_bar = df_orders_products_all['Type'].value_counts().plot.bar(title ='Dietary Flag', color = ['red', 'coral'])\n"
   ]
  },
  {
   "cell_type": "code",
   "execution_count": 69,
   "id": "74f7eb60",
   "metadata": {},
   "outputs": [],
   "source": [
    "# export dietary bar chart\n",
    "\n",
    "dietary_bar.figure.savefig(os.path.join(path, '04 Analysis','Visualizations', 'dietary_bar.png'))"
   ]
  },
  {
   "cell_type": "markdown",
   "id": "d6fe5290",
   "metadata": {},
   "source": [
    "##### Majority of Instacart's clients are carnivores. "
   ]
  },
  {
   "cell_type": "markdown",
   "id": "45f5d14d",
   "metadata": {},
   "source": [
    "#### 6.4 Dependant flag profile"
   ]
  },
  {
   "cell_type": "code",
   "execution_count": 71,
   "id": "ad92aba0",
   "metadata": {},
   "outputs": [
    {
     "data": {
      "image/png": "[encoded data removed]",
      "text/plain": [
       "<Figure size 640x480 with 1 Axes>"
      ]
     },
     "metadata": {},
     "output_type": "display_data"
    }
   ],
   "source": [
    "# create bar chart for dependant_flag profile\n",
    "\n",
    "dependant_bar = df_orders_products_all['dependant_flag'].value_counts().plot.bar(title ='Dependant Flag', color = ['red', 'coral'])"
   ]
  },
  {
   "cell_type": "code",
   "execution_count": 72,
   "id": "548568ac",
   "metadata": {},
   "outputs": [],
   "source": [
    "# export dependant bar chart\n",
    "\n",
    "dependant_bar.figure.savefig(os.path.join(path, '04 Analysis','Visualizations', 'dependant_bar.png'))"
   ]
  },
  {
   "cell_type": "markdown",
   "id": "2e8c9e1f",
   "metadata": {},
   "source": [
    "##### Majority of Instacart's clients have a child or more. "
   ]
  },
  {
   "cell_type": "markdown",
   "id": "03730909",
   "metadata": {},
   "source": [
    "### 7. Descriptive Statistics on All Profiles for Usage Frequency and Expenditures (mean, max, min)"
   ]
  },
  {
   "cell_type": "markdown",
   "id": "56166921",
   "metadata": {},
   "source": [
    "#### 7.1 Age flag"
   ]
  },
  {
   "cell_type": "code",
   "execution_count": 73,
   "id": "7a547d46",
   "metadata": {},
   "outputs": [
    {
     "data": {
      "text/html": [
       "<div>\n",
       "<style scoped>\n",
       "    .dataframe tbody tr th:only-of-type {\n",
       "        vertical-align: middle;\n",
       "    }\n",
       "\n",
       "    .dataframe tbody tr th {\n",
       "        vertical-align: top;\n",
       "    }\n",
       "\n",
       "    .dataframe thead tr th {\n",
       "        text-align: left;\n",
       "    }\n",
       "\n",
       "    .dataframe thead tr:last-of-type th {\n",
       "        text-align: right;\n",
       "    }\n",
       "</style>\n",
       "<table border=\"1\" class=\"dataframe\">\n",
       "  <thead>\n",
       "    <tr>\n",
       "      <th></th>\n",
       "      <th colspan=\"3\" halign=\"left\">prices</th>\n",
       "    </tr>\n",
       "    <tr>\n",
       "      <th></th>\n",
       "      <th>mean</th>\n",
       "      <th>max</th>\n",
       "      <th>min</th>\n",
       "    </tr>\n",
       "    <tr>\n",
       "      <th>age_flag</th>\n",
       "      <th></th>\n",
       "      <th></th>\n",
       "      <th></th>\n",
       "    </tr>\n",
       "  </thead>\n",
       "  <tbody>\n",
       "    <tr>\n",
       "      <th>Adult</th>\n",
       "      <td>11.849466</td>\n",
       "      <td>99999.0</td>\n",
       "      <td>1.0</td>\n",
       "    </tr>\n",
       "    <tr>\n",
       "      <th>Middle-Age</th>\n",
       "      <td>12.355924</td>\n",
       "      <td>99999.0</td>\n",
       "      <td>1.0</td>\n",
       "    </tr>\n",
       "    <tr>\n",
       "      <th>Old-Age</th>\n",
       "      <td>11.763336</td>\n",
       "      <td>99999.0</td>\n",
       "      <td>1.0</td>\n",
       "    </tr>\n",
       "    <tr>\n",
       "      <th>Young Adult</th>\n",
       "      <td>12.175118</td>\n",
       "      <td>99999.0</td>\n",
       "      <td>1.0</td>\n",
       "    </tr>\n",
       "  </tbody>\n",
       "</table>\n",
       "</div>"
      ],
      "text/plain": [
       "                prices              \n",
       "                  mean      max  min\n",
       "age_flag                            \n",
       "Adult        11.849466  99999.0  1.0\n",
       "Middle-Age   12.355924  99999.0  1.0\n",
       "Old-Age      11.763336  99999.0  1.0\n",
       "Young Adult  12.175118  99999.0  1.0"
      ]
     },
     "execution_count": 73,
     "metadata": {},
     "output_type": "execute_result"
    }
   ],
   "source": [
    "# age_flag profile statistics by spend\n",
    "\n",
    "df_orders_products_all.groupby('age_flag').agg({'prices' : ['mean', 'max', 'min']})"
   ]
  },
  {
   "cell_type": "code",
   "execution_count": 74,
   "id": "01648614",
   "metadata": {},
   "outputs": [
    {
     "data": {
      "text/html": [
       "<div>\n",
       "<style scoped>\n",
       "    .dataframe tbody tr th:only-of-type {\n",
       "        vertical-align: middle;\n",
       "    }\n",
       "\n",
       "    .dataframe tbody tr th {\n",
       "        vertical-align: top;\n",
       "    }\n",
       "\n",
       "    .dataframe thead tr th {\n",
       "        text-align: left;\n",
       "    }\n",
       "\n",
       "    .dataframe thead tr:last-of-type th {\n",
       "        text-align: right;\n",
       "    }\n",
       "</style>\n",
       "<table border=\"1\" class=\"dataframe\">\n",
       "  <thead>\n",
       "    <tr>\n",
       "      <th></th>\n",
       "      <th colspan=\"3\" halign=\"left\">days_since_prior_order</th>\n",
       "    </tr>\n",
       "    <tr>\n",
       "      <th></th>\n",
       "      <th>mean</th>\n",
       "      <th>max</th>\n",
       "      <th>min</th>\n",
       "    </tr>\n",
       "    <tr>\n",
       "      <th>age_flag</th>\n",
       "      <th></th>\n",
       "      <th></th>\n",
       "      <th></th>\n",
       "    </tr>\n",
       "  </thead>\n",
       "  <tbody>\n",
       "    <tr>\n",
       "      <th>Adult</th>\n",
       "      <td>11.113359</td>\n",
       "      <td>30.0</td>\n",
       "      <td>0.0</td>\n",
       "    </tr>\n",
       "    <tr>\n",
       "      <th>Middle-Age</th>\n",
       "      <td>11.114897</td>\n",
       "      <td>30.0</td>\n",
       "      <td>0.0</td>\n",
       "    </tr>\n",
       "    <tr>\n",
       "      <th>Old-Age</th>\n",
       "      <td>11.092552</td>\n",
       "      <td>30.0</td>\n",
       "      <td>0.0</td>\n",
       "    </tr>\n",
       "    <tr>\n",
       "      <th>Young Adult</th>\n",
       "      <td>11.093030</td>\n",
       "      <td>30.0</td>\n",
       "      <td>0.0</td>\n",
       "    </tr>\n",
       "  </tbody>\n",
       "</table>\n",
       "</div>"
      ],
      "text/plain": [
       "            days_since_prior_order           \n",
       "                              mean   max  min\n",
       "age_flag                                     \n",
       "Adult                    11.113359  30.0  0.0\n",
       "Middle-Age               11.114897  30.0  0.0\n",
       "Old-Age                  11.092552  30.0  0.0\n",
       "Young Adult              11.093030  30.0  0.0"
      ]
     },
     "execution_count": 74,
     "metadata": {},
     "output_type": "execute_result"
    }
   ],
   "source": [
    "# age_flag profile statistics by frequency\n",
    "\n",
    "df_orders_products_all.groupby('age_flag').agg({'days_since_prior_order' : ['mean', 'max', 'min']})"
   ]
  },
  {
   "cell_type": "markdown",
   "id": "5a9d1e47",
   "metadata": {},
   "source": [
    "#### 7.2 Income flag"
   ]
  },
  {
   "cell_type": "code",
   "execution_count": 75,
   "id": "4bb3f03d",
   "metadata": {},
   "outputs": [
    {
     "data": {
      "text/html": [
       "<div>\n",
       "<style scoped>\n",
       "    .dataframe tbody tr th:only-of-type {\n",
       "        vertical-align: middle;\n",
       "    }\n",
       "\n",
       "    .dataframe tbody tr th {\n",
       "        vertical-align: top;\n",
       "    }\n",
       "\n",
       "    .dataframe thead tr th {\n",
       "        text-align: left;\n",
       "    }\n",
       "\n",
       "    .dataframe thead tr:last-of-type th {\n",
       "        text-align: right;\n",
       "    }\n",
       "</style>\n",
       "<table border=\"1\" class=\"dataframe\">\n",
       "  <thead>\n",
       "    <tr>\n",
       "      <th></th>\n",
       "      <th colspan=\"3\" halign=\"left\">prices</th>\n",
       "    </tr>\n",
       "    <tr>\n",
       "      <th></th>\n",
       "      <th>mean</th>\n",
       "      <th>max</th>\n",
       "      <th>min</th>\n",
       "    </tr>\n",
       "    <tr>\n",
       "      <th>income_flag</th>\n",
       "      <th></th>\n",
       "      <th></th>\n",
       "      <th></th>\n",
       "    </tr>\n",
       "  </thead>\n",
       "  <tbody>\n",
       "    <tr>\n",
       "      <th>High Income</th>\n",
       "      <td>40.336168</td>\n",
       "      <td>99999.0</td>\n",
       "      <td>1.0</td>\n",
       "    </tr>\n",
       "    <tr>\n",
       "      <th>Low Income</th>\n",
       "      <td>6.741174</td>\n",
       "      <td>25.0</td>\n",
       "      <td>1.0</td>\n",
       "    </tr>\n",
       "    <tr>\n",
       "      <th>Middle Income</th>\n",
       "      <td>9.638976</td>\n",
       "      <td>99999.0</td>\n",
       "      <td>1.0</td>\n",
       "    </tr>\n",
       "  </tbody>\n",
       "</table>\n",
       "</div>"
      ],
      "text/plain": [
       "                  prices              \n",
       "                    mean      max  min\n",
       "income_flag                           \n",
       "High Income    40.336168  99999.0  1.0\n",
       "Low Income      6.741174     25.0  1.0\n",
       "Middle Income   9.638976  99999.0  1.0"
      ]
     },
     "execution_count": 75,
     "metadata": {},
     "output_type": "execute_result"
    }
   ],
   "source": [
    "# income_flag profile statistics by spend\n",
    "\n",
    "df_orders_products_all.groupby('income_flag').agg({'prices' : ['mean', 'max', 'min']})"
   ]
  },
  {
   "cell_type": "code",
   "execution_count": 76,
   "id": "fa740cd3",
   "metadata": {},
   "outputs": [
    {
     "data": {
      "text/html": [
       "<div>\n",
       "<style scoped>\n",
       "    .dataframe tbody tr th:only-of-type {\n",
       "        vertical-align: middle;\n",
       "    }\n",
       "\n",
       "    .dataframe tbody tr th {\n",
       "        vertical-align: top;\n",
       "    }\n",
       "\n",
       "    .dataframe thead tr th {\n",
       "        text-align: left;\n",
       "    }\n",
       "\n",
       "    .dataframe thead tr:last-of-type th {\n",
       "        text-align: right;\n",
       "    }\n",
       "</style>\n",
       "<table border=\"1\" class=\"dataframe\">\n",
       "  <thead>\n",
       "    <tr>\n",
       "      <th></th>\n",
       "      <th colspan=\"3\" halign=\"left\">days_since_prior_order</th>\n",
       "    </tr>\n",
       "    <tr>\n",
       "      <th></th>\n",
       "      <th>mean</th>\n",
       "      <th>max</th>\n",
       "      <th>min</th>\n",
       "    </tr>\n",
       "    <tr>\n",
       "      <th>income_flag</th>\n",
       "      <th></th>\n",
       "      <th></th>\n",
       "      <th></th>\n",
       "    </tr>\n",
       "  </thead>\n",
       "  <tbody>\n",
       "    <tr>\n",
       "      <th>High Income</th>\n",
       "      <td>10.914190</td>\n",
       "      <td>30.0</td>\n",
       "      <td>0.0</td>\n",
       "    </tr>\n",
       "    <tr>\n",
       "      <th>Low Income</th>\n",
       "      <td>11.569561</td>\n",
       "      <td>30.0</td>\n",
       "      <td>0.0</td>\n",
       "    </tr>\n",
       "    <tr>\n",
       "      <th>Middle Income</th>\n",
       "      <td>11.055509</td>\n",
       "      <td>30.0</td>\n",
       "      <td>0.0</td>\n",
       "    </tr>\n",
       "  </tbody>\n",
       "</table>\n",
       "</div>"
      ],
      "text/plain": [
       "              days_since_prior_order           \n",
       "                                mean   max  min\n",
       "income_flag                                    \n",
       "High Income                10.914190  30.0  0.0\n",
       "Low Income                 11.569561  30.0  0.0\n",
       "Middle Income              11.055509  30.0  0.0"
      ]
     },
     "execution_count": 76,
     "metadata": {},
     "output_type": "execute_result"
    }
   ],
   "source": [
    "# income_flag profile statistics by frequency\n",
    "\n",
    "df_orders_products_all.groupby('income_flag').agg({'days_since_prior_order' : ['mean', 'max', 'min']})"
   ]
  },
  {
   "cell_type": "markdown",
   "id": "894d6436",
   "metadata": {},
   "source": [
    "#### 7.4 Dietary flag"
   ]
  },
  {
   "cell_type": "code",
   "execution_count": 77,
   "id": "3c59bfbc",
   "metadata": {},
   "outputs": [
    {
     "data": {
      "text/html": [
       "<div>\n",
       "<style scoped>\n",
       "    .dataframe tbody tr th:only-of-type {\n",
       "        vertical-align: middle;\n",
       "    }\n",
       "\n",
       "    .dataframe tbody tr th {\n",
       "        vertical-align: top;\n",
       "    }\n",
       "\n",
       "    .dataframe thead tr th {\n",
       "        text-align: left;\n",
       "    }\n",
       "\n",
       "    .dataframe thead tr:last-of-type th {\n",
       "        text-align: right;\n",
       "    }\n",
       "</style>\n",
       "<table border=\"1\" class=\"dataframe\">\n",
       "  <thead>\n",
       "    <tr>\n",
       "      <th></th>\n",
       "      <th colspan=\"3\" halign=\"left\">prices</th>\n",
       "    </tr>\n",
       "    <tr>\n",
       "      <th></th>\n",
       "      <th>mean</th>\n",
       "      <th>max</th>\n",
       "      <th>min</th>\n",
       "    </tr>\n",
       "    <tr>\n",
       "      <th>Type</th>\n",
       "      <th></th>\n",
       "      <th></th>\n",
       "      <th></th>\n",
       "    </tr>\n",
       "  </thead>\n",
       "  <tbody>\n",
       "    <tr>\n",
       "      <th>carnivore</th>\n",
       "      <td>12.042126</td>\n",
       "      <td>99999.0</td>\n",
       "      <td>1.0</td>\n",
       "    </tr>\n",
       "    <tr>\n",
       "      <th>vegetarian</th>\n",
       "      <td>11.810025</td>\n",
       "      <td>99999.0</td>\n",
       "      <td>1.0</td>\n",
       "    </tr>\n",
       "  </tbody>\n",
       "</table>\n",
       "</div>"
      ],
      "text/plain": [
       "               prices              \n",
       "                 mean      max  min\n",
       "Type                               \n",
       "carnivore   12.042126  99999.0  1.0\n",
       "vegetarian  11.810025  99999.0  1.0"
      ]
     },
     "execution_count": 77,
     "metadata": {},
     "output_type": "execute_result"
    }
   ],
   "source": [
    "# dietary_flag profile statistics by spend\n",
    "\n",
    "df_orders_products_all.groupby('Type').agg({'prices' : ['mean', 'max', 'min']})"
   ]
  },
  {
   "cell_type": "code",
   "execution_count": 78,
   "id": "71c9c3b8",
   "metadata": {},
   "outputs": [
    {
     "data": {
      "text/html": [
       "<div>\n",
       "<style scoped>\n",
       "    .dataframe tbody tr th:only-of-type {\n",
       "        vertical-align: middle;\n",
       "    }\n",
       "\n",
       "    .dataframe tbody tr th {\n",
       "        vertical-align: top;\n",
       "    }\n",
       "\n",
       "    .dataframe thead tr th {\n",
       "        text-align: left;\n",
       "    }\n",
       "\n",
       "    .dataframe thead tr:last-of-type th {\n",
       "        text-align: right;\n",
       "    }\n",
       "</style>\n",
       "<table border=\"1\" class=\"dataframe\">\n",
       "  <thead>\n",
       "    <tr>\n",
       "      <th></th>\n",
       "      <th colspan=\"3\" halign=\"left\">days_since_prior_order</th>\n",
       "    </tr>\n",
       "    <tr>\n",
       "      <th></th>\n",
       "      <th>mean</th>\n",
       "      <th>max</th>\n",
       "      <th>min</th>\n",
       "    </tr>\n",
       "    <tr>\n",
       "      <th>Type</th>\n",
       "      <th></th>\n",
       "      <th></th>\n",
       "      <th></th>\n",
       "    </tr>\n",
       "  </thead>\n",
       "  <tbody>\n",
       "    <tr>\n",
       "      <th>carnivore</th>\n",
       "      <td>10.762605</td>\n",
       "      <td>30.0</td>\n",
       "      <td>0.0</td>\n",
       "    </tr>\n",
       "    <tr>\n",
       "      <th>vegetarian</th>\n",
       "      <td>12.071076</td>\n",
       "      <td>30.0</td>\n",
       "      <td>0.0</td>\n",
       "    </tr>\n",
       "  </tbody>\n",
       "</table>\n",
       "</div>"
      ],
      "text/plain": [
       "           days_since_prior_order           \n",
       "                             mean   max  min\n",
       "Type                                        \n",
       "carnivore               10.762605  30.0  0.0\n",
       "vegetarian              12.071076  30.0  0.0"
      ]
     },
     "execution_count": 78,
     "metadata": {},
     "output_type": "execute_result"
    }
   ],
   "source": [
    "# dietary_flag profile statistics by frequency\n",
    "\n",
    "df_orders_products_all.groupby('Type').agg({'days_since_prior_order' : ['mean', 'max', 'min']})"
   ]
  },
  {
   "cell_type": "markdown",
   "id": "24d03c07",
   "metadata": {},
   "source": [
    "#### 7.4 Dependant flag"
   ]
  },
  {
   "cell_type": "code",
   "execution_count": 79,
   "id": "7e26d16f",
   "metadata": {},
   "outputs": [
    {
     "data": {
      "text/html": [
       "<div>\n",
       "<style scoped>\n",
       "    .dataframe tbody tr th:only-of-type {\n",
       "        vertical-align: middle;\n",
       "    }\n",
       "\n",
       "    .dataframe tbody tr th {\n",
       "        vertical-align: top;\n",
       "    }\n",
       "\n",
       "    .dataframe thead tr th {\n",
       "        text-align: left;\n",
       "    }\n",
       "\n",
       "    .dataframe thead tr:last-of-type th {\n",
       "        text-align: right;\n",
       "    }\n",
       "</style>\n",
       "<table border=\"1\" class=\"dataframe\">\n",
       "  <thead>\n",
       "    <tr>\n",
       "      <th></th>\n",
       "      <th colspan=\"3\" halign=\"left\">prices</th>\n",
       "    </tr>\n",
       "    <tr>\n",
       "      <th></th>\n",
       "      <th>mean</th>\n",
       "      <th>max</th>\n",
       "      <th>min</th>\n",
       "    </tr>\n",
       "    <tr>\n",
       "      <th>dependant_flag</th>\n",
       "      <th></th>\n",
       "      <th></th>\n",
       "      <th></th>\n",
       "    </tr>\n",
       "  </thead>\n",
       "  <tbody>\n",
       "    <tr>\n",
       "      <th>No Children</th>\n",
       "      <td>12.129243</td>\n",
       "      <td>99999.0</td>\n",
       "      <td>1.0</td>\n",
       "    </tr>\n",
       "    <tr>\n",
       "      <th>Parent</th>\n",
       "      <td>11.930584</td>\n",
       "      <td>99999.0</td>\n",
       "      <td>1.0</td>\n",
       "    </tr>\n",
       "  </tbody>\n",
       "</table>\n",
       "</div>"
      ],
      "text/plain": [
       "                   prices              \n",
       "                     mean      max  min\n",
       "dependant_flag                         \n",
       "No Children     12.129243  99999.0  1.0\n",
       "Parent          11.930584  99999.0  1.0"
      ]
     },
     "execution_count": 79,
     "metadata": {},
     "output_type": "execute_result"
    }
   ],
   "source": [
    "# dependant_flag profile statistics by spend\n",
    "\n",
    "df_orders_products_all.groupby('dependant_flag').agg({'prices' : ['mean', 'max', 'min']})"
   ]
  },
  {
   "cell_type": "code",
   "execution_count": 80,
   "id": "b6d61084",
   "metadata": {},
   "outputs": [
    {
     "data": {
      "text/html": [
       "<div>\n",
       "<style scoped>\n",
       "    .dataframe tbody tr th:only-of-type {\n",
       "        vertical-align: middle;\n",
       "    }\n",
       "\n",
       "    .dataframe tbody tr th {\n",
       "        vertical-align: top;\n",
       "    }\n",
       "\n",
       "    .dataframe thead tr th {\n",
       "        text-align: left;\n",
       "    }\n",
       "\n",
       "    .dataframe thead tr:last-of-type th {\n",
       "        text-align: right;\n",
       "    }\n",
       "</style>\n",
       "<table border=\"1\" class=\"dataframe\">\n",
       "  <thead>\n",
       "    <tr>\n",
       "      <th></th>\n",
       "      <th colspan=\"3\" halign=\"left\">days_since_prior_order</th>\n",
       "    </tr>\n",
       "    <tr>\n",
       "      <th></th>\n",
       "      <th>mean</th>\n",
       "      <th>max</th>\n",
       "      <th>min</th>\n",
       "    </tr>\n",
       "    <tr>\n",
       "      <th>dependant_flag</th>\n",
       "      <th></th>\n",
       "      <th></th>\n",
       "      <th></th>\n",
       "    </tr>\n",
       "  </thead>\n",
       "  <tbody>\n",
       "    <tr>\n",
       "      <th>No Children</th>\n",
       "      <td>11.080805</td>\n",
       "      <td>30.0</td>\n",
       "      <td>0.0</td>\n",
       "    </tr>\n",
       "    <tr>\n",
       "      <th>Parent</th>\n",
       "      <td>11.111834</td>\n",
       "      <td>30.0</td>\n",
       "      <td>0.0</td>\n",
       "    </tr>\n",
       "  </tbody>\n",
       "</table>\n",
       "</div>"
      ],
      "text/plain": [
       "               days_since_prior_order           \n",
       "                                 mean   max  min\n",
       "dependant_flag                                  \n",
       "No Children                 11.080805  30.0  0.0\n",
       "Parent                      11.111834  30.0  0.0"
      ]
     },
     "execution_count": 80,
     "metadata": {},
     "output_type": "execute_result"
    }
   ],
   "source": [
    "# dependant_flag profile statistics by frequency\n",
    "\n",
    "df_orders_products_all.groupby('dependant_flag').agg({'days_since_prior_order' : ['mean', 'max', 'min']})"
   ]
  },
  {
   "cell_type": "markdown",
   "id": "2b6c1faf",
   "metadata": {},
   "source": [
    "### 8. Comparing profiles with regions and departments"
   ]
  },
  {
   "cell_type": "code",
   "execution_count": 89,
   "id": "cd2f0fbf",
   "metadata": {},
   "outputs": [],
   "source": [
    "# create crosstab between age_flag and departments\n",
    "\n",
    "crosstab_age_flag_departments = pd.crosstab(df_orders_products_all['department_id'], df_orders_products_all['age_flag'], dropna = False)"
   ]
  },
  {
   "cell_type": "code",
   "execution_count": 90,
   "id": "47f11958",
   "metadata": {},
   "outputs": [],
   "source": [
    "cmap = plt.colormaps['autumn']"
   ]
  },
  {
   "cell_type": "code",
   "execution_count": 101,
   "id": "731790e2",
   "metadata": {
    "scrolled": true
   },
   "outputs": [
    {
     "data": {
      "image/png": "[encoded data removed]",
      "text/plain": [
       "<Figure size 640x480 with 1 Axes>"
      ]
     },
     "metadata": {},
     "output_type": "display_data"
    }
   ],
   "source": [
    "# create stacked bar chart for department_id and age_flag\n",
    "\n",
    "age_depts_bar = crosstab_age_flag_departments.plot(kind = 'barh', stacked = True, title = 'Product Consumption by Age Group', cmap = cmap, xlabel = '')\n"
   ]
  },
  {
   "cell_type": "code",
   "execution_count": 93,
   "id": "29d62b43",
   "metadata": {},
   "outputs": [],
   "source": [
    "# export Product Consumption by Age Group bar chart\n",
    "\n",
    "age_depts_bar.figure.savefig(os.path.join(path, '04 Analysis','Visualizations', 'dept_age_bar.png'))"
   ]
  },
  {
   "cell_type": "markdown",
   "id": "2c44fcda",
   "metadata": {},
   "source": [
    "##### Produce is the #1 consumed product across all age groups, followed by dairy and eggs. "
   ]
  },
  {
   "cell_type": "code",
   "execution_count": 95,
   "id": "ee9b2e49",
   "metadata": {},
   "outputs": [],
   "source": [
    "# create crosstab between income_flag and region\n",
    "\n",
    "crosstab_income_flag_regions = pd.crosstab(df_orders_products_all['region'], df_orders_products_all['income_flag'], dropna = False)"
   ]
  },
  {
   "cell_type": "code",
   "execution_count": 102,
   "id": "4041055d",
   "metadata": {},
   "outputs": [
    {
     "data": {
      "image/png": "[encoded data removed]",
      "text/plain": [
       "<Figure size 640x480 with 1 Axes>"
      ]
     },
     "metadata": {},
     "output_type": "display_data"
    }
   ],
   "source": [
    "# create bar chart for income_flag and region\n",
    "\n",
    "income_region_bar = crosstab_income_flag_regions.plot.bar(title ='Income Class by Region', color = ['red', 'coral', 'pink'])"
   ]
  },
  {
   "cell_type": "markdown",
   "id": "65fac3ea",
   "metadata": {},
   "source": [
    "##### Majority of the consumers across regions belong in the middle class income bracket and are responsible for driving up sales."
   ]
  },
  {
   "cell_type": "code",
   "execution_count": 103,
   "id": "d0251740",
   "metadata": {},
   "outputs": [],
   "source": [
    "# export Income Class by Region bar chart\n",
    "\n",
    "income_region_bar.figure.savefig(os.path.join(path, '04 Analysis','Visualizations', 'income_region_bar.png'))"
   ]
  },
  {
   "cell_type": "code",
   "execution_count": 104,
   "id": "5b789aa6",
   "metadata": {},
   "outputs": [],
   "source": [
    "# create crosstab between dependant_flag and region\n",
    "\n",
    "crosstab_dependant_flag_regions = pd.crosstab(df_orders_products_all['region'], df_orders_products_all['dependant_flag'], dropna = False)"
   ]
  },
  {
   "cell_type": "code",
   "execution_count": 111,
   "id": "ab4609af",
   "metadata": {},
   "outputs": [
    {
     "data": {
      "image/png": "[encoded data removed]",
      "text/plain": [
       "<Figure size 640x480 with 1 Axes>"
      ]
     },
     "metadata": {},
     "output_type": "display_data"
    }
   ],
   "source": [
    "# create bar chart for income_flag and region\n",
    "\n",
    "dependant_region_bar = crosstab_dependant_flag_regions.plot.bar(title ='Family Profile by Region', color = ['red', 'coral',])"
   ]
  },
  {
   "cell_type": "markdown",
   "id": "603d6bbe",
   "metadata": {},
   "source": [
    "##### Customers with children drive up sales across all regions given that more household members will be consuming groceries. Parents are consistenly higher compared to people with no children across all regions."
   ]
  },
  {
   "cell_type": "code",
   "execution_count": 107,
   "id": "f5d6771b",
   "metadata": {},
   "outputs": [],
   "source": [
    "# export Family Profile by Region bar chart\n",
    "\n",
    "dependant_region_bar.figure.savefig(os.path.join(path, '04 Analysis','Visualizations', 'dependant_region_bar.png'))"
   ]
  },
  {
   "cell_type": "code",
   "execution_count": 108,
   "id": "46255cf2",
   "metadata": {},
   "outputs": [],
   "source": [
    "# create crosstab between dietary Type and region\n",
    "\n",
    "crosstab_type_regions = pd.crosstab(df_orders_products_all['region'], df_orders_products_all['Type'], dropna = False)"
   ]
  },
  {
   "cell_type": "code",
   "execution_count": 110,
   "id": "d127ac81",
   "metadata": {},
   "outputs": [
    {
     "data": {
      "image/png": "[encoded data removed]",
      "text/plain": [
       "<Figure size 640x480 with 1 Axes>"
      ]
     },
     "metadata": {},
     "output_type": "display_data"
    }
   ],
   "source": [
    "# create bar chart for dietary Type and region\n",
    "\n",
    "dietary_region_bar = crosstab_type_regions.plot.bar(title ='Dietary Profile by Region', color = ['red', 'coral'])"
   ]
  },
  {
   "cell_type": "markdown",
   "id": "3c2b3c78",
   "metadata": {},
   "source": [
    "###### While the carnivores outnumber the vegetarians across regions, it should be noted that the South and West regions had the most vegetarian clientels. "
   ]
  },
  {
   "cell_type": "code",
   "execution_count": 112,
   "id": "9deb78f1",
   "metadata": {},
   "outputs": [],
   "source": [
    "# export Dietary Profile by Region bar chart\n",
    "\n",
    "dietary_region_bar.figure.savefig(os.path.join(path, '04 Analysis','Visualizations', 'dietary_region_bar.png'))"
   ]
  },
  {
   "cell_type": "code",
   "execution_count": 114,
   "id": "52f7784d",
   "metadata": {},
   "outputs": [],
   "source": [
    "# export dataframe as a pickle file\n",
    "\n",
    "df_orders_products_all.to_pickle(os.path.join(path, '02 Data', 'Prepared Data','df_orders_products_all_final.pkl'))"
   ]
  },
  {
   "cell_type": "code",
   "execution_count": null,
   "id": "547b1e5a",
   "metadata": {},
   "outputs": [],
   "source": []
  }
 ],
 "metadata": {
  "kernelspec": {
   "display_name": "Python 3 (ipykernel)",
   "language": "python",
   "name": "python3"
  },
  "language_info": {
   "codemirror_mode": {
    "name": "ipython",
    "version": 3
   },
   "file_extension": ".py",
   "mimetype": "text/x-python",
   "name": "python",
   "nbconvert_exporter": "python",
   "pygments_lexer": "ipython3",
   "version": "3.10.9"
  }
 },
 "nbformat": 4,
 "nbformat_minor": 5
}
